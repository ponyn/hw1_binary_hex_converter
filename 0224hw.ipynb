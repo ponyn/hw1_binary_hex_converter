{
  "nbformat": 4,
  "nbformat_minor": 0,
  "metadata": {
    "colab": {
      "provenance": [],
      "authorship_tag": "ABX9TyM7JF0Qv8N2Jc8GRjVhVzAj",
      "include_colab_link": true
    },
    "kernelspec": {
      "name": "python3",
      "display_name": "Python 3"
    },
    "language_info": {
      "name": "python"
    }
  },
  "cells": [
    {
      "cell_type": "markdown",
      "metadata": {
        "id": "view-in-github",
        "colab_type": "text"
      },
      "source": [
        "<a href=\"https://colab.research.google.com/github/ponyn/hw1_binary_hex_converter/blob/main/0224hw.ipynb\" target=\"_parent\"><img src=\"https://colab.research.google.com/assets/colab-badge.svg\" alt=\"Open In Colab\"/></a>"
      ]
    },
    {
      "cell_type": "code",
      "execution_count": null,
      "metadata": {
        "colab": {
          "base_uri": "https://localhost:8080/"
        },
        "id": "2bXacPIQ4nET",
        "outputId": "cc49b901-216f-4711-a70a-6768987a7fbe"
      },
      "outputs": [
        {
          "output_type": "stream",
          "name": "stdout",
          "text": [
            "please enter number in decimal14\n",
            "1110\n",
            "E\n"
          ]
        }
      ],
      "source": [
        "import math\n",
        "decimal_number=input(\"please enter number in decimal\")\n",
        "decimal_number=int(decimal_number)\n",
        "power7=decimal_number//(2**7)\n",
        "power6=(decimal_number % (2**7))//(2**6)\n",
        "power5=(decimal_number % (2**6))//(2**5)\n",
        "power4=(decimal_number % (2**5))//(2**4)\n",
        "power3=(decimal_number % (2**4))//(2**3)\n",
        "power2=(decimal_number % (2**3))//(2**2)\n",
        "power1=(decimal_number % (2**2))//(2**1)\n",
        "power0=(decimal_number % (2**1))\n",
        "binary_number=power7*(10**7)+power6*(10**6)+power5*(10**5)+power4*(10**4)+power3*(10**3)+power2*(10**2)+power1*(10)+power0\n",
        "print(binary_number)\n",
        "hexadecimal_number_1=power7*2*2*2+power6*2*2+power5*2+power4\n",
        "hexadecimal_number_2=power3*2*2*2+power2*2*2+power1*2+power0\n",
        "global hexadecimal_number\n",
        "hexadecimal_dictionary={10:'A',11:'B',12:'C',13:'D',14:'E',15:'F'}\n",
        "if hexadecimal_number_1<10 and hexadecimal_number_2<10:\n",
        "  print(hexadecimal_number_1*10+hexadecimal_number_2)\n",
        "elif hexadecimal_number_1<10 and hexadecimal_number_1>0:\n",
        "  print(hexadecimal_number_1,hexadecimal_dictionary[hexadecimal_number_2])\n",
        "elif hexadecimal_number_2<10:\n",
        "  print(hexadecimal_dictionary[hexadecimal_number_1],hexadecimal_number_2)\n",
        "elif hexadecimal_number_1>=10 and hexadecimal_number_2>=10:\n",
        "  print(hexadecimal_dictionary[hexadecimal_number_1],hexadecimal_dictionary[hexadecimal_number_2])\n",
        "else:\n",
        "  print(hexadecimal_dictionary[hexadecimal_number_2])"
      ]
    },
    {
      "cell_type": "code",
      "source": [],
      "metadata": {
        "colab": {
          "base_uri": "https://localhost:8080/"
        },
        "id": "YoizhO-y7PKg",
        "outputId": "d4cb4e77-3168-40b9-ef26-7d828ce83afb"
      },
      "execution_count": null,
      "outputs": [
        {
          "output_type": "stream",
          "name": "stdout",
          "text": [
            "B\n"
          ]
        }
      ]
    }
  ]
}